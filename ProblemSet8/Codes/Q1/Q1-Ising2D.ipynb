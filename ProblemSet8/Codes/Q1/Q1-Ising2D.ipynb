{
 "cells": [
  {
   "cell_type": "markdown",
   "metadata": {},
   "source": [
    "# ***Simulating 2D Ising Model using Metropolis algorithm***"
   ]
  },
  {
   "cell_type": "markdown",
   "metadata": {},
   "source": [
    "## *importing the modules and packages, Configuration of the Figs and Data directories*"
   ]
  },
  {
   "cell_type": "code",
   "execution_count": 9,
   "metadata": {},
   "outputs": [
    {
     "name": "stderr",
     "output_type": "stream",
     "text": [
      "WARNING: replacing module Ising2D.\n"
     ]
    }
   ],
   "source": [
    "using Plots, ProgressMeter, JLD\n",
    "\n",
    "include(\"Q1-Ising2D.jl\")\n",
    "\n",
    "figpath = \"../../Figs/Q1/\"\n",
    "datapath = \"../../Data/Q1/\"\n",
    "Plots.default(titlefontsize = 12, tickfontsize = 10, labelfontsize = 12,\n",
    "    fontfamily = \"Computer Modern\", frame = :box, label = nothing)"
   ]
  },
  {
   "cell_type": "code",
   "execution_count": 13,
   "metadata": {},
   "outputs": [
    {
     "name": "stderr",
     "output_type": "stream",
     "text": [
      "\u001b[32mProgress:   7%|████                                     |  ETA: 2:24:28\u001b[39m"
     ]
    }
   ],
   "source": [
    "βList₁ = hcat(0.0:0.01:0.4)\n",
    "Data₁ = zeros(4, 41)\n",
    "\n",
    "PRG = Progress(41)\n",
    "for i ∈ 1:41\n",
    "    β = βList₁[i]\n",
    "    Data₁[:, i] = [Ising2D.IsingModel(β;)...]\n",
    "    next!(PRG)\n",
    "end\n",
    "save(datapath * \"1stDataSet.jld\", \"1stDataSet\", Data₁)"
   ]
  }
 ],
 "metadata": {
  "kernelspec": {
   "display_name": "Julia 1.7.0",
   "language": "julia",
   "name": "julia-1.7"
  },
  "language_info": {
   "file_extension": ".jl",
   "mimetype": "application/julia",
   "name": "julia",
   "version": "1.7.0"
  },
  "orig_nbformat": 4
 },
 "nbformat": 4,
 "nbformat_minor": 2
}

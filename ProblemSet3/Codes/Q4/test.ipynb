{
 "cells": [
  {
   "cell_type": "code",
   "execution_count": null,
   "metadata": {},
   "outputs": [],
   "source": [
    "import networkx as nx\n",
    "import random\n",
    "import numpy as np\n",
    "import matplotlib.pyplot as plt"
   ]
  },
  {
   "cell_type": "code",
   "execution_count": null,
   "metadata": {},
   "outputs": [],
   "source": [
    "def InitalGraph(dim, OIP):\n",
    "    Graph_ = nx.grid_2d_graph(dim, dim)\n",
    "    for i in list(Graph_.nodes):\n",
    "        if 1-OIP > random.random():\n",
    "            Graph_.remove_node(i)\n",
    "    return Graph_\n"
   ]
  },
  {
   "cell_type": "code",
   "execution_count": null,
   "metadata": {},
   "outputs": [],
   "source": [
    "def CheckPath(dim,P):\n",
    "    G = InitalGraph(dim, P)\n",
    "    for i in range(dim-1):\n",
    "        for j in range(dim-1):\n",
    "            if ((0, i) in G.nodes) and ((dim-1, j) in G.nodes):\n",
    "                check = nx.has_path(G, (0, i), (dim-1, j))\n",
    "                if check == True:\n",
    "                    return 1\n",
    "    return 0"
   ]
  },
  {
   "cell_type": "code",
   "execution_count": null,
   "metadata": {},
   "outputs": [],
   "source": [
    "Plist = np.linspace(0.4,0.8,num= 50)\n",
    "MeanList = []\n",
    "STDList = []\n",
    "num = 0\n",
    "for p in Plist:\n",
    "    print(\"\\r\",num,end='')\n",
    "    num += 1\n",
    "    AllRuns = []\n",
    "    for i in range(1000):\n",
    "        AllRuns.append(CheckPath(50, p))\n",
    "    MeanList.append(np.mean(AllRuns))\n",
    "    STDList.append(np.std(AllRuns))\n"
   ]
  },
  {
   "cell_type": "code",
   "execution_count": null,
   "metadata": {},
   "outputs": [],
   "source": [
    "plt.figure(dpi=150)\n",
    "plt.errorbar(Plist, MeanList, yerr=STDList,ecolor='r', color='k')\n",
    "plt.scatter(Plist, MeanList, s=15, c='k')\n",
    "plt.title('Avg of results for diffrent P (dimension = 50, 1000 runs)')\n",
    "plt.xlabel('P')\n",
    "plt.ylabel('Avg of results')\n",
    "plt.savefig('../../Figs/Q3/Q3.pdf')\n",
    "plt.show()\n"
   ]
  },
  {
   "cell_type": "code",
   "execution_count": null,
   "metadata": {},
   "outputs": [],
   "source": [
    "G = InitalGraph(20, 0.65)\n",
    "nx.has_path(G, (0,0), (19,19))\n"
   ]
  }
 ],
 "metadata": {
  "interpreter": {
   "hash": "e90483a7cb1e7e22226eb8a680b135918114a425dc58b4d338fc085a691d3c36"
  },
  "kernelspec": {
   "display_name": "Python 3.9.6 64-bit",
   "name": "python3"
  },
  "language_info": {
   "codemirror_mode": {
    "name": "ipython",
    "version": 3
   },
   "file_extension": ".py",
   "mimetype": "text/x-python",
   "name": "python",
   "nbconvert_exporter": "python",
   "pygments_lexer": "ipython3",
   "version": "3.9.6"
  },
  "orig_nbformat": 4
 },
 "nbformat": 4,
 "nbformat_minor": 2
}

{
 "cells": [
  {
   "cell_type": "markdown",
   "metadata": {},
   "source": [
    "# ***2D Molecular dynamics simulation of Aragorn Fluid***"
   ]
  },
  {
   "cell_type": "markdown",
   "metadata": {},
   "source": [
    "## *importing the packages, Configuration of the Figs and data directories*"
   ]
  },
  {
   "cell_type": "code",
   "execution_count": null,
   "metadata": {},
   "outputs": [],
   "source": [
    "include(\"Q1-MD.jl\")\n",
    "include(\"Q1-ExportData.jl\")\n",
    "using Plots, LaTeXStrings, Statistics, JLD, ProgressMeter, Plots.PlotMeasures\n",
    "using StatsBase: autocor\n",
    "\n",
    "figpath = \"../../Figs/\"\n",
    "datapath = \"../../Data/\"\n",
    "animpath = \"../../Anims/\"\n",
    "Plots.default(titlefontsize = 12, tickfontsize = 10, labelfontsize = 12, legendfontsize = 9,\n",
    "    fontfamily = \"Computer Modern\", frame = :box, label = nothing, rightmargin = 3mm, bottommargin = 2mm)"
   ]
  },
  {
   "cell_type": "markdown",
   "metadata": {},
   "source": [
    "### *Setting the Parameters and Exporting Data*"
   ]
  },
  {
   "cell_type": "code",
   "execution_count": null,
   "metadata": {},
   "outputs": [],
   "source": [
    "Parameters1 = Dict(:N => 100, :T₀ => 1.0, :h => 0.0015, :l => 50.0)\n",
    "Parameters2 = Dict(:N => 100, :T₀ => 1.0, :h => 0.0005, :l => 50.0)\n",
    "\n",
    "StepCount1 = 3000\n",
    "Runnumver1 = 1000\n",
    "StepCount2 = 200000\n",
    "\n",
    "\n",
    "# ExportData.AnsembleData(StepCount1, Runnumver1, Parameters1)\n",
    "# ExportData.SingleData(StepCount2, Parameters2)"
   ]
  },
  {
   "cell_type": "markdown",
   "metadata": {},
   "source": [
    "### *Loading and Mining Data*"
   ]
  },
  {
   "cell_type": "code",
   "execution_count": null,
   "metadata": {},
   "outputs": [],
   "source": [
    "TimeCollTD = collect(0:Parameters1[:h]:Parameters1[:h]*StepCount1)[1:StepCount1]\n",
    "TimeCollSD = collect(0:Parameters2[:h]:Parameters2[:h]*StepCount2)[1:StepCount2]\n",
    "DataTD = load(datapath * \"DataTD.jld\")\n",
    "TotUColl = DataTD[\"TotUColl\"]\n",
    "TotKColl = DataTD[\"TotKColl\"]\n",
    "TotTColl = DataTD[\"TotTColl\"]\n",
    "TotPColl = DataTD[\"TotPColl\"]\n",
    "TotlsColl = DataTD[\"TotlsColl\"]\n",
    "DataSD = load(datapath * \"DataSD.jld\")\n",
    "PosColl = DataSD[\"PosColl\"]\n",
    "VelColl = DataSD[\"VelColl\"]\n",
    "UColl = DataSD[\"UColl\"]\n",
    "KColl = DataSD[\"KColl\"]\n",
    "TColl = DataSD[\"TColl\"]\n",
    "PColl = DataSD[\"PColl\"]\n",
    "# ExportData.MineData(TotUColl, TotKColl, TotTColl, TotPColl, TotlsColl)\n",
    "MeanData = load(datapath * \"MeanData.jld\")\n",
    "MeanUColl = MeanData[\"MEANUColl\"]\n",
    "MeanKColl = MeanData[\"MEANKColl\"]\n",
    "MeanTColl = MeanData[\"MEANTColl\"]\n",
    "MeanPColl = MeanData[\"MEANPColl\"]\n",
    "MeanlsColl = MeanData[\"MEANlsColl\"]\n",
    "STDData = load(datapath * \"STDData.jld\")\n",
    "STDUColl = STDData[\"STDUColl\"]\n",
    "STDKColl = STDData[\"STDKColl\"]\n",
    "STDTColl = STDData[\"STDTColl\"]\n",
    "STDPColl = STDData[\"STDPColl\"]\n",
    "STDlsColl = STDData[\"STDlsColl\"]"
   ]
  },
  {
   "cell_type": "markdown",
   "metadata": {},
   "source": [
    "## ***Properties of Single System***"
   ]
  },
  {
   "cell_type": "markdown",
   "metadata": {},
   "source": [
    "### *Equlibrium*"
   ]
  },
  {
   "cell_type": "code",
   "execution_count": null,
   "metadata": {},
   "outputs": [],
   "source": [
    "P1 = begin\n",
    "    plot(TimeCollSD, [count(<=(Parameters2[:l] / 2), PosColl[i, 1, :]) / Parameters2[:N] for i ∈ 1:StepCount2], c = :steelblue, label = \"Particles on left\")\n",
    "    plot!(TimeCollSD, [count(>(Parameters2[:l] / 2), PosColl[i, 1, :]) / Parameters2[:N] for i ∈ 1:StepCount2], c = :purple, label = \"Particles on right\")\n",
    "    plot!(title = \"Particle density in the right and left halves\\n\" * L\"N_{net}= %$(Parameters2[:N]),\\ L_s= %$(Parameters2[:l]),\\ \\Delta{t}= %$(Parameters2[:h])\" * \"\\n \",\n",
    "        xlabel = \"t/τ\", ylabel = L\"N_{left}/N_{net}\", legend = :topright)\n",
    "end\n",
    "\n",
    "savefig(P1, figpath * \"Fig1.pdf\")\n",
    "\n",
    "display(P1)"
   ]
  },
  {
   "cell_type": "code",
   "execution_count": null,
   "metadata": {},
   "outputs": [],
   "source": [
    "P2 = begin\n",
    "    plot(TimeCollSD, UColl, c = :steelblue, label = \"Potential Energy\")\n",
    "    plot!(TimeCollSD, KColl, c = :purple, label = \"Kinematic Energy\")\n",
    "    plot!(TimeCollSD, UColl + KColl, c = :black, label = \"Total Energy\", lw = 2.5, legend = 0)\n",
    "    plot!(xlabel = \"t/τ\", ylabel = \"E/ϵ\", title = \"Energy of system\\n\" * L\"N_{net}= %$(Parameters2[:N]),\\ L_s= %$(Parameters2[:l]),\\ \\Delta{t}= %$(Parameters2[:h])\" * \"\\n \")\n",
    "end\n",
    "\n",
    "savefig(P2, figpath * \"Fig2.pdf\")\n",
    "\n",
    "display(P2)"
   ]
  },
  {
   "cell_type": "code",
   "execution_count": null,
   "metadata": {},
   "outputs": [],
   "source": [
    "P3 = begin\n",
    "    plot(TimeCollSD, 120 * TColl, c = :maroon, label = \"Temperature\")\n",
    "    plot!([0.0, 100.0], 120 * [mean(TColl[10000:end]), mean(TColl[10000:end])], c = :black, lw = 3,\n",
    "        label = L\"\\langle T_{eq} \\rangle = %$(round(120 * mean(TColl[10000:end]), digits = 3))\")\n",
    "    plot!(xlabel = \"t/τ\", ylabel = \"T(K)\", title = \"Temperature of system\\n\" * L\"N_{net}= %$(Parameters2[:N]),\\ L_s= %$(Parameters2[:l]),\\ \\Delta{t}= %$(Parameters2[:h])\" * \"\\n \")\n",
    "end\n",
    "\n",
    "savefig(P3, figpath * \"Fig3.pdf\")\n",
    "\n",
    "display(P3)"
   ]
  },
  {
   "cell_type": "code",
   "execution_count": null,
   "metadata": {},
   "outputs": [],
   "source": [
    "P4 = begin\n",
    "    plot(TimeCollSD, PColl, c = :purple4, label = \"Pressure\")\n",
    "    plot!([0.0, 100.0], [mean(PColl[5000:end]), mean(PColl[5000:end])], c = :black, lw = 3,\n",
    "        label = L\"\\langle P_{eq} \\rangle= %$(round(mean(PColl[5000:end]), digits = 3))\")\n",
    "    plot!(xlabel = \"t/τ\", ylabel = L\"P\\sigma^2/\\epsilon\",\n",
    "        title = \"Pressure of system\\n\" * L\"N_{net}= %$(Parameters2[:N]),\\ L_s= %$(Parameters2[:l]),\\ \\Delta{t}= %$(Parameters2[:h])\" * \"\\n \")\n",
    "end\n",
    "\n",
    "savefig(P4, figpath * \"Fig4.pdf\")\n",
    "\n",
    "display(P4)"
   ]
  },
  {
   "cell_type": "markdown",
   "metadata": {},
   "source": [
    "### *Autocorrelation of velocity*"
   ]
  },
  {
   "cell_type": "code",
   "execution_count": null,
   "metadata": {},
   "outputs": [],
   "source": [
    "v = Matrix{Float64}(undef, StepCount2, Parameters2[:N])\n",
    "for i in 1:StepCount2\n",
    "    v[i, :] = @. √(VelColl[i, 1, :]^2 + VelColl[i, 2, :]^2)\n",
    "end\n",
    "\n",
    "autocorrelation = autocor(v, 1:StepCount2÷5)\n",
    "\n",
    "P5 = begin\n",
    "    plot(TimeCollSD[1:StepCount2÷5], mean(autocorrelation, dims = 2), c = :royalblue4, lw = 3)\n",
    "    plot!(xlabel = \"t/τ\", ylabel = L\"C_v\",\n",
    "        title = \"Autocorrelation of particles velocities\\n\" * L\"N_{net}= %$(Parameters2[:N]),\\ L_s= %$(Parameters2[:l]),\\ \\Delta{t}= %$(Parameters2[:h]),\\ T_0 = 120K\" * \"\\n \")\n",
    "end\n",
    "\n",
    "savefig(P5, figpath * \"Fig5.pdf\")\n",
    "\n",
    "display(P5)"
   ]
  },
  {
   "cell_type": "code",
   "execution_count": null,
   "metadata": {},
   "outputs": [],
   "source": [
    "τₑ = findfirst(x -> x <= 0, mean(autocorrelation, dims = 2))[1] - 1\n",
    "Lt = TimeCollSD[1:τₑ]\n",
    "logCv = log.(mean(autocorrelation[1:τₑ, :], dims = 2))\n",
    "\n",
    "_ξ⁻¹, coeff = hcat(Lt, ones(τₑ)) \\ logCv\n",
    "δ_ξ⁻¹ = √(sum((logCv - _ξ⁻¹ * Lt .- coeff) .^ 2) / (τₑ - 2) / sum((lags .- mean(lags)).^2))\n",
    "\n",
    "ξ = -1 / _ξ⁻¹\n",
    "δξ = δ_ξ⁻¹ / ξ^2\n",
    "\n",
    "display(L\"ξ = %$ξ,\\quad δξ = %$δξ\")"
   ]
  },
  {
   "cell_type": "markdown",
   "metadata": {},
   "source": [
    "## ***Average of Properties of System on thousand runs***"
   ]
  },
  {
   "cell_type": "markdown",
   "metadata": {},
   "source": [
    "### *Equlibrium*"
   ]
  },
  {
   "cell_type": "code",
   "execution_count": null,
   "metadata": {},
   "outputs": [],
   "source": [
    "P6 = begin\n",
    "    plot(TimeCollTD[1:60:end], MeanUColl[1:60:end], ribbon = STDUColl[1:60:end],\n",
    "        ls = :dashdot, lc = :black, c = :steelblue, m = :c, mc = :steelblue, ms = 3, label = \"Potential Energy\")\n",
    "    plot!(TimeCollTD[1:60:end], MeanKColl[1:60:end], ribbon = STDKColl[1:60:end],\n",
    "        ls = :dashdot, lc = :black, c = :purple, m = :c, mc = :purple, ms = 3, label = \"Kinematic Energy\")\n",
    "    plot!(TimeCollTD[1:60:end], MeanUColl[1:60:end] + MeanKColl[1:60:end],\n",
    "        ls = :solid, lc = :black, lw = 2, label = \"Total Energy\", legend = 0)\n",
    "    plot!(xlabel = \"t/τ\", ylabel = L\"\\langle E_{(t)} \\rangle/\\epsilon\",\n",
    "        title = \"Energy of system\\n\" * L\"N_{net}= %$(Parameters1[:N]),\\ L_s= %$(Parameters1[:l]),\\ \\Delta{t}= %$(Parameters1[:h])\" * \"\\n \")\n",
    "end\n",
    "\n",
    "savefig(P6, figpath * \"Fig6.pdf\")\n",
    "\n",
    "display(P6)"
   ]
  },
  {
   "cell_type": "code",
   "execution_count": null,
   "metadata": {},
   "outputs": [],
   "source": [
    "P7 = begin\n",
    "    plot(TimeCollTD, 120 * MeanTColl, ribbon = 120 * STDTColl, c = :maroon, ls = :dashdot, lc = :black, lw = 1.5)\n",
    "    plot!(xlabel = \"t/τ\", ylabel = L\"\\langle T_{(t)} \\rangle\",\n",
    "        title = \"Average Temperature on 1000 runs\\n\" * L\"N_{net}= %$(Parameters1[:N]),\\ L_s= %$(Parameters1[:l]),\\ \\Delta{t}= %$(Parameters1[:h])\" * \"\\n \")\n",
    "end\n",
    "\n",
    "savefig(P7, figpath * \"Fig7.pdf\")\n",
    "\n",
    "display(P7)"
   ]
  },
  {
   "cell_type": "code",
   "execution_count": null,
   "metadata": {},
   "outputs": [],
   "source": [
    "P8 = begin\n",
    "    plot(TimeCollTD, MeanPColl, ribbon = STDPColl, c = :purple4, ls = :dashdot, lc = :black, lw = 1.5)\n",
    "    plot!(xlabel = \"t/τ\", ylabel = L\"\\langle P_{(t)} \\rangle\\sigma^2/\\epsilon\",\n",
    "        title = \"Average Pressure on 1000 runs\\n\" * L\"N_{net}= %$(Parameters1[:N]),\\ L_s= %$(Parameters1[:l]),\\ \\Delta{t}= %$(Parameters1[:h])\" * \"\\n \")\n",
    "end\n",
    "\n",
    "savefig(P8, figpath * \"Fig8.pdf\")\n",
    "\n",
    "display(P8)"
   ]
  },
  {
   "cell_type": "markdown",
   "metadata": {},
   "source": [
    "## ***Trajectory of System***"
   ]
  },
  {
   "cell_type": "markdown",
   "metadata": {},
   "source": [
    "### *Argon gas*"
   ]
  },
  {
   "cell_type": "code",
   "execution_count": null,
   "metadata": {},
   "outputs": [],
   "source": [
    "# PosColl = DataSD[\"PosColl\"]\n",
    "\n"
   ]
  },
  {
   "cell_type": "markdown",
   "metadata": {},
   "source": [
    "### *Phase Transmission*"
   ]
  },
  {
   "cell_type": "code",
   "execution_count": null,
   "metadata": {},
   "outputs": [],
   "source": [
    "# Parameters = Dict(:N => 100, :T₀ => 1.0, :h => 0.01, :l => 30.0)\n",
    "\n",
    "# sys = MDSim.init(; Parameters...)\n",
    "\n",
    "# Temperatures = Float64[]\n",
    "# Pressures = Float64[]\n",
    "# anim = Animation()\n",
    "\n",
    "# rate = [range(1.0, 0.95; length = 5000); fill(0.985, 1000); range(1.0, 0.8; length = 4000)]\n",
    "\n",
    "# Times = collect(0:Parameters[:h]:Parameters[:h]*length(rate))[1:length(rate)]\n",
    "\n",
    "# prog = Progress(length(rate))\n",
    "\n",
    "# t = 0.0\n",
    "# for i ∈ 1:length(rate)\n",
    "#     next!(prog)\n",
    "#     update!(prog)\n",
    "#     MDSim.update_phase!(sys)\n",
    "#     MDSim.check_boundary!(sys)\n",
    "#     MDSim.update_temperature!(sys)\n",
    "#     MDSim.update_pressure!(sys)\n",
    "#     push!(Temperatures, sys.T)\n",
    "#     push!(Pressures, sys.P)\n",
    "#     if i % 10 == 0\n",
    "#         sys.v *= rate[i]\n",
    "#         p = scatter(sys.r[1, :], sys.r[2, :], color = :indigo, msw = 0.01, markersize = 7,\n",
    "#             title = \"\\$T = $(round(120 * sys.T, digits=1))\\\\mathrm{K},\" * \"\\\\quad t = $(round(t, digits=2))\\\\tau\\$\",\n",
    "#             xlabel = L\"x/\\sigma\", ylabel = L\"y/\\sigma\", xlim = (1, sys.l - 1), ylim = (1, sys.l - 1), frame = :box,\n",
    "#             grid = false, tickdir = :none, size = (600, 600), ratio = :equal)\n",
    "#         frame(anim, p)\n",
    "#     end\n",
    "#     t += sys.h\n",
    "# end\n",
    "\n",
    "gif(anim, animpath * \"PhaseTransmission.gif\", fps = 30)\n"
   ]
  },
  {
   "cell_type": "markdown",
   "metadata": {},
   "source": [
    "## *Properties of gas during phase transition*"
   ]
  },
  {
   "cell_type": "code",
   "execution_count": null,
   "metadata": {},
   "outputs": [],
   "source": [
    "# plot(Temperatures)\n",
    "# plot(Pressures)\n",
    "\n",
    "# display(P9)"
   ]
  }
 ],
 "metadata": {
  "kernelspec": {
   "display_name": "Julia 1.7.0",
   "language": "julia",
   "name": "julia-1.7"
  },
  "language_info": {
   "file_extension": ".jl",
   "mimetype": "application/julia",
   "name": "julia",
   "version": "1.7.0"
  },
  "orig_nbformat": 4
 },
 "nbformat": 4,
 "nbformat_minor": 2
}
